{
 "cells": [
  {
   "cell_type": "markdown",
   "metadata": {
    "id": "1rJ9wMwjvqAc"
   },
   "source": [
    "# Hybrid Encryption"
   ]
  },
  {
   "cell_type": "code",
   "execution_count": null,
   "metadata": {
    "colab": {
     "base_uri": "https://localhost:8080/"
    },
    "id": "S8O4VKhBevs6",
    "outputId": "90342384-3bf8-4406-f100-0598fdd4669b"
   },
   "outputs": [],
   "source": [
    "!pip3 install pycrypto stegano pycryptodome black blackcellmagic"
   ]
  },
  {
   "cell_type": "code",
   "execution_count": 2,
   "metadata": {},
   "outputs": [],
   "source": [
    "%load_ext blackcellmagic"
   ]
  },
  {
   "cell_type": "markdown",
   "metadata": {
    "id": "J7dvOgWuvqAe"
   },
   "source": [
    "## Encryption"
   ]
  },
  {
   "cell_type": "code",
   "execution_count": 15,
   "metadata": {},
   "outputs": [],
   "source": [
    "from Crypto.Cipher import Blowfish, PKCS1_OAEP, AES\n",
    "from Crypto.PublicKey import RSA\n",
    "from Crypto.Util.Padding import pad, unpad\n",
    "from binascii import hexlify, unhexlify\n",
    "import hashlib\n",
    "import json\n",
    "import string\n",
    "import random\n",
    "from stegano import lsb\n",
    "from datetime import datetime"
   ]
  },
  {
   "cell_type": "markdown",
   "metadata": {},
   "source": [
    "### Key Generator for AES and Blowfish\n",
    "\n",
    "This generates random keys based on three parameters\n",
    "\n",
    "- size: length of the key to generate\n",
    "- case: casing of ASCII letters, possible values: \"default\", \"upper-case-only\", \"upper-case-only\"\n",
    "- punctuations: if punctuation symbols are required in  !\"#$%&'()*+, -./:;<=>?@[\\]^_`{|}~\n"
   ]
  },
  {
   "cell_type": "code",
   "execution_count": 16,
   "metadata": {},
   "outputs": [],
   "source": [
    "def key_generator(size: int, case: str = \"default\", punctuations: bool = True):\n",
    "    if punctuations:\n",
    "        chars = string.ascii_letters + string.digits + string.punctuation\n",
    "    else:\n",
    "        chars = string.ascii_letters + string.digits\n",
    "\n",
    "    if case == \"upper-case-only\":\n",
    "        chars = chars.upper()\n",
    "    elif case == \"lower-case-only\":\n",
    "        chars = chars.lower()\n",
    "\n",
    "    if size > len(chars):\n",
    "        raise ValueError(\"Key size is larger than the available characters\")\n",
    "\n",
    "    return ''.join(random.choice(chars) for _ in range(size))"
   ]
  },
  {
   "cell_type": "markdown",
   "metadata": {},
   "source": [
    "### Blowfish Algorithm\n",
    "\n"
   ]
  },
  {
   "cell_type": "code",
   "execution_count": 17,
   "metadata": {},
   "outputs": [],
   "source": [
    "# Blowfish\n",
    "def blowfish_encrypt(plaintext):\n",
    "    blowfish_key = key_generator(size=16).encode()\n",
    "    blowfish_cipher = Blowfish.new(blowfish_key, Blowfish.MODE_CBC)\n",
    "\n",
    "    blowfish_ciphertext = blowfish_cipher.encrypt(\n",
    "        pad(plaintext, Blowfish.block_size))\n",
    "\n",
    "    return blowfish_key, blowfish_cipher.iv, blowfish_ciphertext"
   ]
  },
  {
   "cell_type": "code",
   "execution_count": 18,
   "metadata": {},
   "outputs": [],
   "source": [
    "# RSA\n",
    "def rsa_encrypt(plaintext):\n",
    "    rsa_key = RSA.generate(2048)\n",
    "    rsa_private_key = rsa_key\n",
    "    rsa_public_key = rsa_key.publickey()\n",
    "\n",
    "    cipher_rsa = PKCS1_OAEP.new(rsa_public_key)\n",
    "\n",
    "    rsa_ciphertext = bytearray()\n",
    "    for i in range(0, len(plaintext), 190):\n",
    "        rsa_ciphertext.extend(cipher_rsa.encrypt(plaintext[i: i + 190]))\n",
    "\n",
    "    return rsa_private_key.n, rsa_private_key.e, rsa_private_key.d, rsa_ciphertext"
   ]
  },
  {
   "cell_type": "code",
   "execution_count": 19,
   "metadata": {},
   "outputs": [],
   "source": [
    "# AES\n",
    "def aes_encrypt(plaintext):\n",
    "    aes_key = key_generator(size=16).encode()\n",
    "    aes_cipher = AES.new(aes_key, AES.MODE_CBC)\n",
    "    aes_ciphertext = aes_cipher.encrypt(pad(plaintext, AES.block_size))\n",
    "\n",
    "    return aes_key, aes_cipher.iv, aes_ciphertext"
   ]
  },
  {
   "cell_type": "code",
   "execution_count": 20,
   "metadata": {},
   "outputs": [],
   "source": [
    "# LSB Steg\n",
    "def lsb_steganography(encrypted_keys_and_iv):\n",
    "    lsb_stegano_image = lsb.hide(\n",
    "        \"./cover_image.png\", encrypted_keys_and_iv.decode())\n",
    "    lsb_stegano_image.save(\"./stego_image.png\")"
   ]
  },
  {
   "cell_type": "code",
   "execution_count": 21,
   "metadata": {},
   "outputs": [],
   "source": [
    "def encrypt_keys(password, keys_iv):\n",
    "    hash = hashlib.sha1()\n",
    "    hash.update(password.encode())\n",
    "    password_encryption_cipher = AES.new(\n",
    "        hash.hexdigest()[:16].encode(), AES.MODE_CBC, iv=\"16bitAESInitVect\".encode()\n",
    "    )\n",
    "    # Encryption of Key and IV String\n",
    "    encrypted_keys_and_iv = hexlify(\n",
    "        password_encryption_cipher.encrypt(\n",
    "            pad(json.dumps(keys_iv).encode(), AES.block_size)\n",
    "        )\n",
    "    )\n",
    "    return encrypted_keys_and_iv"
   ]
  },
  {
   "cell_type": "code",
   "execution_count": 22,
   "metadata": {},
   "outputs": [],
   "source": [
    "def open_file(path: str) -> bytes:\n",
    "    with open(path, \"rb\") as file:\n",
    "        plaintext = file.read()\n",
    "    return plaintext\n",
    "\n",
    "\n",
    "def output_file(path, ciphertext):\n",
    "    output_filepath = path + \"_hyenc.encrypted\"\n",
    "    with open(output_filepath, \"w\") as file:\n",
    "        file.write(hexlify(ciphertext).decode())"
   ]
  },
  {
   "cell_type": "code",
   "execution_count": 23,
   "metadata": {},
   "outputs": [],
   "source": [
    "# Run Encryption\n",
    "def run_encryption(plaintext):\n",
    "    keys_iv = {}\n",
    "\n",
    "    blowfish_key, blowfish_iv, blowfish_ct = blowfish_encrypt(plaintext)\n",
    "    keys_iv[\"blowfish_iv\"], keys_iv[\"blowfish_key\"] = (\n",
    "        hexlify(blowfish_iv).decode(),\n",
    "        hexlify(blowfish_key).decode(),\n",
    "    )\n",
    "\n",
    "    rsa_n, rsa_e, rsa_d, rsa_ct = rsa_encrypt(blowfish_ct)\n",
    "    keys_iv[\"rsa_n\"], keys_iv[\"rsa_e\"], keys_iv[\"rsa_d\"] = rsa_n, rsa_e, rsa_d\n",
    "\n",
    "    aes_key, aes_iv, aes_ct = aes_encrypt(rsa_ct)\n",
    "    keys_iv[\"aes_iv\"], keys_iv[\"aes_key\"] = (\n",
    "        hexlify(aes_iv).decode(),\n",
    "        hexlify(aes_key).decode(),\n",
    "    )\n",
    "\n",
    "    return keys_iv, aes_ct"
   ]
  },
  {
   "cell_type": "code",
   "execution_count": 24,
   "metadata": {
    "colab": {
     "base_uri": "https://localhost:8080/"
    },
    "id": "LY75pUFwvqAe",
    "outputId": "215622e8-b250-47d4-c1d3-ea474d822727"
   },
   "outputs": [
    {
     "name": "stdout",
     "output_type": "stream",
     "text": [
      "File Encryption Complete!\n"
     ]
    }
   ],
   "source": [
    "input_file_path = input(\"Enter Filepath of file to encrypt: \")\n",
    "\n",
    "plaintext = open_file(input_file_path)\n",
    "\n",
    "log_plaintext_length = len(hexlify(plaintext))\n",
    "\n",
    "# Password for Key Encryption\n",
    "password = input(\"Enter Password: \")\n",
    "log_password_length = len(password)\n",
    "\n",
    "log_start_time = datetime.now()\n",
    "\n",
    "keys_iv, ciphertext = run_encryption(plaintext)\n",
    "\n",
    "output_file(input_file_path, ciphertext)\n",
    "\n",
    "encrypted_keys_and_iv = encrypt_keys(password, keys_iv)\n",
    "lsb_steganography(encrypted_keys_and_iv)\n",
    "\n",
    "log_ciphertext_length = len(hexlify(ciphertext))\n",
    "log_end_time = datetime.now()\n",
    "log_duration = str(log_end_time - log_start_time)\n",
    "\n",
    "with open(\"./logs/encryption-log.txt\", \"a+\") as log_file:\n",
    "    log_file.write(\n",
    "        \"\\n| \"\n",
    "        + str(log_plaintext_length)\n",
    "        + \"          | \"\n",
    "        + str(log_ciphertext_length)\n",
    "        + \"          | \"\n",
    "        + str(log_password_length)\n",
    "        + \"         | \"\n",
    "        + log_start_time.strftime(\"%H:%M:%S\")\n",
    "        + \"   | \"\n",
    "        + log_end_time.strftime(\"%H:%M:%S\")\n",
    "        + \"  | \"\n",
    "        + str(log_duration)\n",
    "        + \" |\"\n",
    "    )\n",
    "\n",
    "print(\"File Encryption Complete!\")"
   ]
  },
  {
   "cell_type": "markdown",
   "metadata": {
    "id": "8tHrkt66vqAg"
   },
   "source": [
    "## Decryption"
   ]
  },
  {
   "cell_type": "code",
   "execution_count": 25,
   "metadata": {},
   "outputs": [],
   "source": [
    "def get_encrypted_file(file_to_decrypt):\n",
    "    with open(file_to_decrypt, 'r') as file:\n",
    "        ciphertext = file.read()\n",
    "\n",
    "    return ciphertext"
   ]
  },
  {
   "cell_type": "code",
   "execution_count": 26,
   "metadata": {},
   "outputs": [],
   "source": [
    "def get_key_iv_from_steg_image(password):\n",
    "    unhide_encrypted_keys_and_iv = lsb.reveal(\"./stego_image.png\").encode()\n",
    "    hash = hashlib.sha1()\n",
    "    hash.update(password.encode())\n",
    "    password_decryption_cipher = AES.new(\n",
    "        hash.hexdigest()[:16].encode(), AES.MODE_CBC, iv='16bitAESInitVect'.encode())\n",
    "\n",
    "    return json.loads(unpad(password_decryption_cipher.decrypt(unhexlify(unhide_encrypted_keys_and_iv)), AES.block_size))"
   ]
  },
  {
   "cell_type": "code",
   "execution_count": 27,
   "metadata": {},
   "outputs": [],
   "source": [
    "def aes_decrypt(ciphertext, decrypted_keys_iv):\n",
    "    decryption_key_aes = unhexlify(decrypted_keys_iv['aes_key'])\n",
    "    decryption_iv_aes = unhexlify(decrypted_keys_iv['aes_iv'])\n",
    "    aes_cipher_decryption = AES.new(\n",
    "        decryption_key_aes, AES.MODE_CBC, iv=decryption_iv_aes)\n",
    "    return unpad(aes_cipher_decryption.decrypt(unhexlify(ciphertext)), AES.block_size)"
   ]
  },
  {
   "cell_type": "code",
   "execution_count": 28,
   "metadata": {},
   "outputs": [],
   "source": [
    "def rsa_decrypt(ciphertext, decrypted_keys_iv):\n",
    "    decryption_key_rsa = RSA.construct(rsa_components=(\n",
    "        decrypted_keys_iv['rsa_n'], decrypted_keys_iv['rsa_e'], decrypted_keys_iv['rsa_d']))\n",
    "    rsa_cipher_decryption = PKCS1_OAEP.new(decryption_key_rsa)\n",
    "    ciphertext_blowfish = bytearray()\n",
    "    for i in range(0, len(ciphertext), 256):\n",
    "        ciphertext_segment = ciphertext[i:i+256]\n",
    "        ciphertext_blowfish.extend(\n",
    "            rsa_cipher_decryption.decrypt(ciphertext_segment))\n",
    "    return ciphertext_blowfish"
   ]
  },
  {
   "cell_type": "code",
   "execution_count": 29,
   "metadata": {},
   "outputs": [],
   "source": [
    "def blowfish_decrypt(ciphertext, decrypted_keys_iv):\n",
    "    decryption_iv_blowfish = unhexlify(decrypted_keys_iv['blowfish_iv'])\n",
    "    decryption_key_blowfish = unhexlify(decrypted_keys_iv['blowfish_key'])\n",
    "    blowfish_cipher_decryption = Blowfish.new(\n",
    "        decryption_key_blowfish, Blowfish.MODE_CBC, iv=decryption_iv_blowfish)\n",
    "    return unpad(blowfish_cipher_decryption.decrypt(ciphertext), Blowfish.block_size)"
   ]
  },
  {
   "cell_type": "code",
   "execution_count": 30,
   "metadata": {},
   "outputs": [],
   "source": [
    "def create_decrypted_output_file(filepath, decrypted_plaintext):\n",
    "    output_filepath = filepath.replace('_hyenc.encrypted', '')\n",
    "    output_folder_path = \"./dec_\"+output_filepath.split(\"/\")[-1]\n",
    "    with open(output_folder_path, 'wb+') as file:\n",
    "        file.write(decrypted_plaintext)\n",
    "        file.close()\n",
    "    return output_folder_path"
   ]
  },
  {
   "cell_type": "code",
   "execution_count": 31,
   "metadata": {},
   "outputs": [],
   "source": [
    "# Run Encryption\n",
    "def run_decryption(ciphertext, keys_iv):\n",
    "    aes_plaintext = aes_decrypt(ciphertext, keys_iv)\n",
    "    rsa_plaintext = rsa_decrypt(aes_plaintext, keys_iv)\n",
    "    blowfish_plaintext = blowfish_decrypt(rsa_plaintext, keys_iv)\n",
    "    return blowfish_plaintext"
   ]
  },
  {
   "cell_type": "code",
   "execution_count": 32,
   "metadata": {
    "colab": {
     "base_uri": "https://localhost:8080/"
    },
    "id": "VolMRyxYvqAg",
    "outputId": "b04e043a-d51c-47d7-a3b5-938a25f3587a"
   },
   "outputs": [
    {
     "name": "stdout",
     "output_type": "stream",
     "text": [
      "File Decryption Complete!  ./dec_sample.txt\n"
     ]
    }
   ],
   "source": [
    "password = input(\"Enter Password: \")\n",
    "file_to_decrypt = input(\"Enter Filepath of file to decrypt: \")\n",
    "\n",
    "\n",
    "log_password_length = len(password)\n",
    "log_ciphertext_length = len(ciphertext)\n",
    "\n",
    "log_start_time = datetime.now()\n",
    "\n",
    "decrypted_keys_iv = get_key_iv_from_steg_image(password)\n",
    "ciphertext = get_encrypted_file(file_to_decrypt)\n",
    "decrypted_plaintext = run_decryption(ciphertext, decrypted_keys_iv)\n",
    "\n",
    "output_file_path = create_decrypted_output_file(\n",
    "    file_to_decrypt, decrypted_plaintext)\n",
    "\n",
    "\n",
    "log_end_time = datetime.now()\n",
    "log_duration = str(log_end_time - log_start_time)\n",
    "log_plaintext_length = len(hexlify(decrypted_plaintext))\n",
    "\n",
    "\n",
    "with open(\"./logs/decryption-log.txt\", \"a+\") as log_file:\n",
    "    log_file.write(\n",
    "        \"\\n| \"\n",
    "        + str(log_ciphertext_length)\n",
    "        + \"          | \"\n",
    "        + str(log_plaintext_length)\n",
    "        + \"          | \"\n",
    "        + str(log_password_length)\n",
    "        + \"         | \"\n",
    "        + log_start_time.strftime(\"%H:%M:%S\")\n",
    "        + \"   | \"\n",
    "        + log_end_time.strftime(\"%H:%M:%S\")\n",
    "        + \"  | \"\n",
    "        + str(log_duration)\n",
    "        + \" |\"\n",
    "    )\n",
    "\n",
    "\n",
    "print(\"File Decryption Complete! \", output_file_path)"
   ]
  },
  {
   "cell_type": "code",
   "execution_count": null,
   "metadata": {
    "id": "SWsLTi80vqAh"
   },
   "outputs": [],
   "source": []
  }
 ],
 "metadata": {
  "colab": {
   "provenance": []
  },
  "kernelspec": {
   "display_name": "Python 3 (ipykernel)",
   "language": "python",
   "name": "python3"
  },
  "language_info": {
   "codemirror_mode": {
    "name": "ipython",
    "version": 3
   },
   "file_extension": ".py",
   "mimetype": "text/x-python",
   "name": "python",
   "nbconvert_exporter": "python",
   "pygments_lexer": "ipython3",
   "version": "3.11.4"
  }
 },
 "nbformat": 4,
 "nbformat_minor": 1
}
