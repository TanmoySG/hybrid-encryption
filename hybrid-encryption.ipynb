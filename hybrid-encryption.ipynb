{
 "cells": [
  {
   "cell_type": "markdown",
   "metadata": {
    "id": "1rJ9wMwjvqAc"
   },
   "source": [
    "# Hybrid Encryption"
   ]
  },
  {
   "cell_type": "code",
   "execution_count": 4,
   "metadata": {
    "colab": {
     "base_uri": "https://localhost:8080/"
    },
    "id": "S8O4VKhBevs6",
    "outputId": "90342384-3bf8-4406-f100-0598fdd4669b"
   },
   "outputs": [
    {
     "name": "stdout",
     "output_type": "stream",
     "text": [
      "Requirement already satisfied: pycrypto in /opt/homebrew/lib/python3.11/site-packages (2.6.1)\n",
      "Requirement already satisfied: stegano in /opt/homebrew/lib/python3.11/site-packages (0.11.2)\n",
      "Requirement already satisfied: pycryptodome in /opt/homebrew/lib/python3.11/site-packages (3.18.0)\n",
      "Requirement already satisfied: black in /opt/homebrew/lib/python3.11/site-packages (21.12b0)\n",
      "Requirement already satisfied: blackcellmagic in /opt/homebrew/lib/python3.11/site-packages (0.0.3)\n",
      "Requirement already satisfied: crayons<0.5.0,>=0.4.0 in /opt/homebrew/lib/python3.11/site-packages (from stegano) (0.4.0)\n",
      "Requirement already satisfied: opencv-python<5.0.0.0,>=4.7.0.72 in /opt/homebrew/lib/python3.11/site-packages (from stegano) (4.8.0.76)\n",
      "Requirement already satisfied: piexif<2.0.0,>=1.1.3 in /opt/homebrew/lib/python3.11/site-packages (from stegano) (1.1.3)\n",
      "Requirement already satisfied: pillow<10.0.0,>=9.5.0 in /opt/homebrew/lib/python3.11/site-packages (from stegano) (9.5.0)\n",
      "Requirement already satisfied: click>=7.1.2 in /opt/homebrew/lib/python3.11/site-packages (from black) (8.1.3)\n",
      "Requirement already satisfied: platformdirs>=2 in /opt/homebrew/lib/python3.11/site-packages (from black) (3.2.0)\n",
      "Requirement already satisfied: tomli<2.0.0,>=0.2.6 in /opt/homebrew/lib/python3.11/site-packages (from black) (1.2.3)\n",
      "Requirement already satisfied: pathspec<1,>=0.9.0 in /opt/homebrew/lib/python3.11/site-packages (from black) (0.11.1)\n",
      "Requirement already satisfied: typing-extensions>=3.10.0.0 in /opt/homebrew/lib/python3.11/site-packages (from black) (4.7.1)\n",
      "Requirement already satisfied: mypy-extensions>=0.4.3 in /opt/homebrew/lib/python3.11/site-packages (from black) (1.0.0)\n",
      "Requirement already satisfied: jupyter<2.0.0,>=1.0.0 in /opt/homebrew/lib/python3.11/site-packages (from blackcellmagic) (1.0.0)\n",
      "Requirement already satisfied: colorama in /opt/homebrew/lib/python3.11/site-packages (from crayons<0.5.0,>=0.4.0->stegano) (0.4.6)\n",
      "Requirement already satisfied: notebook in /opt/homebrew/lib/python3.11/site-packages (from jupyter<2.0.0,>=1.0.0->blackcellmagic) (7.0.2)\n",
      "Requirement already satisfied: qtconsole in /opt/homebrew/lib/python3.11/site-packages (from jupyter<2.0.0,>=1.0.0->blackcellmagic) (5.4.3)\n",
      "Requirement already satisfied: jupyter-console in /opt/homebrew/lib/python3.11/site-packages (from jupyter<2.0.0,>=1.0.0->blackcellmagic) (6.6.3)\n",
      "Requirement already satisfied: nbconvert in /opt/homebrew/lib/python3.11/site-packages (from jupyter<2.0.0,>=1.0.0->blackcellmagic) (7.7.3)\n",
      "Requirement already satisfied: ipykernel in /Users/tanmoysg/Library/Python/3.11/lib/python/site-packages (from jupyter<2.0.0,>=1.0.0->blackcellmagic) (6.25.1)\n",
      "Requirement already satisfied: ipywidgets in /opt/homebrew/lib/python3.11/site-packages (from jupyter<2.0.0,>=1.0.0->blackcellmagic) (8.1.0)\n",
      "Requirement already satisfied: numpy>=1.21.2 in /opt/homebrew/lib/python3.11/site-packages (from opencv-python<5.0.0.0,>=4.7.0.72->stegano) (1.25.2)\n",
      "Requirement already satisfied: appnope in /Users/tanmoysg/Library/Python/3.11/lib/python/site-packages (from ipykernel->jupyter<2.0.0,>=1.0.0->blackcellmagic) (0.1.3)\n",
      "Requirement already satisfied: comm>=0.1.1 in /Users/tanmoysg/Library/Python/3.11/lib/python/site-packages (from ipykernel->jupyter<2.0.0,>=1.0.0->blackcellmagic) (0.1.4)\n",
      "Requirement already satisfied: debugpy>=1.6.5 in /Users/tanmoysg/Library/Python/3.11/lib/python/site-packages (from ipykernel->jupyter<2.0.0,>=1.0.0->blackcellmagic) (1.6.7.post1)\n",
      "Requirement already satisfied: ipython>=7.23.1 in /Users/tanmoysg/Library/Python/3.11/lib/python/site-packages (from ipykernel->jupyter<2.0.0,>=1.0.0->blackcellmagic) (8.14.0)\n",
      "Requirement already satisfied: jupyter-client>=6.1.12 in /Users/tanmoysg/Library/Python/3.11/lib/python/site-packages (from ipykernel->jupyter<2.0.0,>=1.0.0->blackcellmagic) (8.3.0)\n",
      "Requirement already satisfied: jupyter-core!=5.0.*,>=4.12 in /Users/tanmoysg/Library/Python/3.11/lib/python/site-packages (from ipykernel->jupyter<2.0.0,>=1.0.0->blackcellmagic) (5.3.1)\n",
      "Requirement already satisfied: matplotlib-inline>=0.1 in /Users/tanmoysg/Library/Python/3.11/lib/python/site-packages (from ipykernel->jupyter<2.0.0,>=1.0.0->blackcellmagic) (0.1.6)\n",
      "Requirement already satisfied: nest-asyncio in /Users/tanmoysg/Library/Python/3.11/lib/python/site-packages (from ipykernel->jupyter<2.0.0,>=1.0.0->blackcellmagic) (1.5.7)\n",
      "Requirement already satisfied: packaging in /opt/homebrew/lib/python3.11/site-packages (from ipykernel->jupyter<2.0.0,>=1.0.0->blackcellmagic) (23.1)\n",
      "Requirement already satisfied: psutil in /Users/tanmoysg/Library/Python/3.11/lib/python/site-packages (from ipykernel->jupyter<2.0.0,>=1.0.0->blackcellmagic) (5.9.5)\n",
      "Requirement already satisfied: pyzmq>=20 in /Users/tanmoysg/Library/Python/3.11/lib/python/site-packages (from ipykernel->jupyter<2.0.0,>=1.0.0->blackcellmagic) (25.1.1)\n",
      "Requirement already satisfied: tornado>=6.1 in /Users/tanmoysg/Library/Python/3.11/lib/python/site-packages (from ipykernel->jupyter<2.0.0,>=1.0.0->blackcellmagic) (6.3.3)\n",
      "Requirement already satisfied: traitlets>=5.4.0 in /Users/tanmoysg/Library/Python/3.11/lib/python/site-packages (from ipykernel->jupyter<2.0.0,>=1.0.0->blackcellmagic) (5.9.0)\n",
      "Requirement already satisfied: widgetsnbextension~=4.0.7 in /opt/homebrew/lib/python3.11/site-packages (from ipywidgets->jupyter<2.0.0,>=1.0.0->blackcellmagic) (4.0.8)\n",
      "Requirement already satisfied: jupyterlab-widgets~=3.0.7 in /opt/homebrew/lib/python3.11/site-packages (from ipywidgets->jupyter<2.0.0,>=1.0.0->blackcellmagic) (3.0.8)\n",
      "Requirement already satisfied: prompt-toolkit>=3.0.30 in /Users/tanmoysg/Library/Python/3.11/lib/python/site-packages (from jupyter-console->jupyter<2.0.0,>=1.0.0->blackcellmagic) (3.0.39)\n",
      "Requirement already satisfied: pygments in /Users/tanmoysg/Library/Python/3.11/lib/python/site-packages (from jupyter-console->jupyter<2.0.0,>=1.0.0->blackcellmagic) (2.16.1)\n",
      "Requirement already satisfied: beautifulsoup4 in /opt/homebrew/lib/python3.11/site-packages (from nbconvert->jupyter<2.0.0,>=1.0.0->blackcellmagic) (4.12.2)\n",
      "Requirement already satisfied: bleach!=5.0.0 in /opt/homebrew/lib/python3.11/site-packages (from nbconvert->jupyter<2.0.0,>=1.0.0->blackcellmagic) (6.0.0)\n",
      "Requirement already satisfied: defusedxml in /opt/homebrew/lib/python3.11/site-packages (from nbconvert->jupyter<2.0.0,>=1.0.0->blackcellmagic) (0.7.1)\n",
      "Requirement already satisfied: jinja2>=3.0 in /opt/homebrew/lib/python3.11/site-packages (from nbconvert->jupyter<2.0.0,>=1.0.0->blackcellmagic) (3.1.2)\n",
      "Requirement already satisfied: jupyterlab-pygments in /opt/homebrew/lib/python3.11/site-packages (from nbconvert->jupyter<2.0.0,>=1.0.0->blackcellmagic) (0.2.2)\n",
      "Requirement already satisfied: markupsafe>=2.0 in /opt/homebrew/lib/python3.11/site-packages (from nbconvert->jupyter<2.0.0,>=1.0.0->blackcellmagic) (2.1.3)\n",
      "Requirement already satisfied: mistune<4,>=2.0.3 in /opt/homebrew/lib/python3.11/site-packages (from nbconvert->jupyter<2.0.0,>=1.0.0->blackcellmagic) (3.0.1)\n",
      "Requirement already satisfied: nbclient>=0.5.0 in /opt/homebrew/lib/python3.11/site-packages (from nbconvert->jupyter<2.0.0,>=1.0.0->blackcellmagic) (0.8.0)\n",
      "Requirement already satisfied: nbformat>=5.7 in /opt/homebrew/lib/python3.11/site-packages (from nbconvert->jupyter<2.0.0,>=1.0.0->blackcellmagic) (5.9.2)\n",
      "Requirement already satisfied: pandocfilters>=1.4.1 in /opt/homebrew/lib/python3.11/site-packages (from nbconvert->jupyter<2.0.0,>=1.0.0->blackcellmagic) (1.5.0)\n",
      "Requirement already satisfied: tinycss2 in /opt/homebrew/lib/python3.11/site-packages (from nbconvert->jupyter<2.0.0,>=1.0.0->blackcellmagic) (1.2.1)\n",
      "Requirement already satisfied: jupyter-server<3,>=2.4.0 in /opt/homebrew/lib/python3.11/site-packages (from notebook->jupyter<2.0.0,>=1.0.0->blackcellmagic) (2.7.1)\n",
      "Requirement already satisfied: jupyterlab-server<3,>=2.22.1 in /opt/homebrew/lib/python3.11/site-packages (from notebook->jupyter<2.0.0,>=1.0.0->blackcellmagic) (2.24.0)\n",
      "Requirement already satisfied: jupyterlab<5,>=4.0.2 in /opt/homebrew/lib/python3.11/site-packages (from notebook->jupyter<2.0.0,>=1.0.0->blackcellmagic) (4.0.5)\n",
      "Requirement already satisfied: notebook-shim<0.3,>=0.2 in /opt/homebrew/lib/python3.11/site-packages (from notebook->jupyter<2.0.0,>=1.0.0->blackcellmagic) (0.2.3)\n",
      "Requirement already satisfied: ipython-genutils in /opt/homebrew/lib/python3.11/site-packages (from qtconsole->jupyter<2.0.0,>=1.0.0->blackcellmagic) (0.2.0)\n",
      "Requirement already satisfied: qtpy>=2.0.1 in /opt/homebrew/lib/python3.11/site-packages (from qtconsole->jupyter<2.0.0,>=1.0.0->blackcellmagic) (2.3.1)\n",
      "Requirement already satisfied: six>=1.9.0 in /Users/tanmoysg/Library/Python/3.11/lib/python/site-packages (from bleach!=5.0.0->nbconvert->jupyter<2.0.0,>=1.0.0->blackcellmagic) (1.16.0)\n",
      "Requirement already satisfied: webencodings in /opt/homebrew/lib/python3.11/site-packages (from bleach!=5.0.0->nbconvert->jupyter<2.0.0,>=1.0.0->blackcellmagic) (0.5.1)\n",
      "Requirement already satisfied: backcall in /Users/tanmoysg/Library/Python/3.11/lib/python/site-packages (from ipython>=7.23.1->ipykernel->jupyter<2.0.0,>=1.0.0->blackcellmagic) (0.2.0)\n",
      "Requirement already satisfied: decorator in /Users/tanmoysg/Library/Python/3.11/lib/python/site-packages (from ipython>=7.23.1->ipykernel->jupyter<2.0.0,>=1.0.0->blackcellmagic) (5.1.1)\n",
      "Requirement already satisfied: jedi>=0.16 in /Users/tanmoysg/Library/Python/3.11/lib/python/site-packages (from ipython>=7.23.1->ipykernel->jupyter<2.0.0,>=1.0.0->blackcellmagic) (0.19.0)\n",
      "Requirement already satisfied: pickleshare in /Users/tanmoysg/Library/Python/3.11/lib/python/site-packages (from ipython>=7.23.1->ipykernel->jupyter<2.0.0,>=1.0.0->blackcellmagic) (0.7.5)\n",
      "Requirement already satisfied: stack-data in /Users/tanmoysg/Library/Python/3.11/lib/python/site-packages (from ipython>=7.23.1->ipykernel->jupyter<2.0.0,>=1.0.0->blackcellmagic) (0.6.2)\n",
      "Requirement already satisfied: pexpect>4.3 in /Users/tanmoysg/Library/Python/3.11/lib/python/site-packages (from ipython>=7.23.1->ipykernel->jupyter<2.0.0,>=1.0.0->blackcellmagic) (4.8.0)\n",
      "Requirement already satisfied: python-dateutil>=2.8.2 in /Users/tanmoysg/Library/Python/3.11/lib/python/site-packages (from jupyter-client>=6.1.12->ipykernel->jupyter<2.0.0,>=1.0.0->blackcellmagic) (2.8.2)\n",
      "Requirement already satisfied: anyio>=3.1.0 in /opt/homebrew/lib/python3.11/site-packages (from jupyter-server<3,>=2.4.0->notebook->jupyter<2.0.0,>=1.0.0->blackcellmagic) (3.7.1)\n",
      "Requirement already satisfied: argon2-cffi in /opt/homebrew/lib/python3.11/site-packages (from jupyter-server<3,>=2.4.0->notebook->jupyter<2.0.0,>=1.0.0->blackcellmagic) (23.1.0)\n",
      "Requirement already satisfied: jupyter-events>=0.6.0 in /opt/homebrew/lib/python3.11/site-packages (from jupyter-server<3,>=2.4.0->notebook->jupyter<2.0.0,>=1.0.0->blackcellmagic) (0.7.0)\n",
      "Requirement already satisfied: jupyter-server-terminals in /opt/homebrew/lib/python3.11/site-packages (from jupyter-server<3,>=2.4.0->notebook->jupyter<2.0.0,>=1.0.0->blackcellmagic) (0.4.4)\n",
      "Requirement already satisfied: overrides in /opt/homebrew/lib/python3.11/site-packages (from jupyter-server<3,>=2.4.0->notebook->jupyter<2.0.0,>=1.0.0->blackcellmagic) (7.4.0)\n",
      "Requirement already satisfied: prometheus-client in /opt/homebrew/lib/python3.11/site-packages (from jupyter-server<3,>=2.4.0->notebook->jupyter<2.0.0,>=1.0.0->blackcellmagic) (0.17.1)\n",
      "Requirement already satisfied: send2trash>=1.8.2 in /opt/homebrew/lib/python3.11/site-packages (from jupyter-server<3,>=2.4.0->notebook->jupyter<2.0.0,>=1.0.0->blackcellmagic) (1.8.2)\n",
      "Requirement already satisfied: terminado>=0.8.3 in /opt/homebrew/lib/python3.11/site-packages (from jupyter-server<3,>=2.4.0->notebook->jupyter<2.0.0,>=1.0.0->blackcellmagic) (0.17.1)\n",
      "Requirement already satisfied: websocket-client in /opt/homebrew/lib/python3.11/site-packages (from jupyter-server<3,>=2.4.0->notebook->jupyter<2.0.0,>=1.0.0->blackcellmagic) (1.6.1)\n",
      "Requirement already satisfied: async-lru>=1.0.0 in /opt/homebrew/lib/python3.11/site-packages (from jupyterlab<5,>=4.0.2->notebook->jupyter<2.0.0,>=1.0.0->blackcellmagic) (2.0.4)\n",
      "Requirement already satisfied: jupyter-lsp>=2.0.0 in /opt/homebrew/lib/python3.11/site-packages (from jupyterlab<5,>=4.0.2->notebook->jupyter<2.0.0,>=1.0.0->blackcellmagic) (2.2.0)\n",
      "Requirement already satisfied: babel>=2.10 in /opt/homebrew/lib/python3.11/site-packages (from jupyterlab-server<3,>=2.22.1->notebook->jupyter<2.0.0,>=1.0.0->blackcellmagic) (2.12.1)\n",
      "Requirement already satisfied: json5>=0.9.0 in /opt/homebrew/lib/python3.11/site-packages (from jupyterlab-server<3,>=2.22.1->notebook->jupyter<2.0.0,>=1.0.0->blackcellmagic) (0.9.14)\n",
      "Requirement already satisfied: jsonschema>=4.17.3 in /opt/homebrew/lib/python3.11/site-packages (from jupyterlab-server<3,>=2.22.1->notebook->jupyter<2.0.0,>=1.0.0->blackcellmagic) (4.19.0)\n",
      "Requirement already satisfied: requests>=2.28 in /opt/homebrew/lib/python3.11/site-packages (from jupyterlab-server<3,>=2.22.1->notebook->jupyter<2.0.0,>=1.0.0->blackcellmagic) (2.31.0)\n",
      "Requirement already satisfied: fastjsonschema in /opt/homebrew/lib/python3.11/site-packages (from nbformat>=5.7->nbconvert->jupyter<2.0.0,>=1.0.0->blackcellmagic) (2.18.0)\n",
      "Requirement already satisfied: wcwidth in /Users/tanmoysg/Library/Python/3.11/lib/python/site-packages (from prompt-toolkit>=3.0.30->jupyter-console->jupyter<2.0.0,>=1.0.0->blackcellmagic) (0.2.6)\n",
      "Requirement already satisfied: soupsieve>1.2 in /opt/homebrew/lib/python3.11/site-packages (from beautifulsoup4->nbconvert->jupyter<2.0.0,>=1.0.0->blackcellmagic) (2.4.1)\n",
      "Requirement already satisfied: idna>=2.8 in /opt/homebrew/lib/python3.11/site-packages (from anyio>=3.1.0->jupyter-server<3,>=2.4.0->notebook->jupyter<2.0.0,>=1.0.0->blackcellmagic) (3.4)\n",
      "Requirement already satisfied: sniffio>=1.1 in /opt/homebrew/lib/python3.11/site-packages (from anyio>=3.1.0->jupyter-server<3,>=2.4.0->notebook->jupyter<2.0.0,>=1.0.0->blackcellmagic) (1.3.0)\n",
      "Requirement already satisfied: parso<0.9.0,>=0.8.3 in /Users/tanmoysg/Library/Python/3.11/lib/python/site-packages (from jedi>=0.16->ipython>=7.23.1->ipykernel->jupyter<2.0.0,>=1.0.0->blackcellmagic) (0.8.3)\n",
      "Requirement already satisfied: attrs>=22.2.0 in /opt/homebrew/lib/python3.11/site-packages (from jsonschema>=4.17.3->jupyterlab-server<3,>=2.22.1->notebook->jupyter<2.0.0,>=1.0.0->blackcellmagic) (23.1.0)\n",
      "Requirement already satisfied: jsonschema-specifications>=2023.03.6 in /opt/homebrew/lib/python3.11/site-packages (from jsonschema>=4.17.3->jupyterlab-server<3,>=2.22.1->notebook->jupyter<2.0.0,>=1.0.0->blackcellmagic) (2023.7.1)\n",
      "Requirement already satisfied: referencing>=0.28.4 in /opt/homebrew/lib/python3.11/site-packages (from jsonschema>=4.17.3->jupyterlab-server<3,>=2.22.1->notebook->jupyter<2.0.0,>=1.0.0->blackcellmagic) (0.30.2)\n",
      "Requirement already satisfied: rpds-py>=0.7.1 in /opt/homebrew/lib/python3.11/site-packages (from jsonschema>=4.17.3->jupyterlab-server<3,>=2.22.1->notebook->jupyter<2.0.0,>=1.0.0->blackcellmagic) (0.9.2)\n",
      "Requirement already satisfied: python-json-logger>=2.0.4 in /opt/homebrew/lib/python3.11/site-packages (from jupyter-events>=0.6.0->jupyter-server<3,>=2.4.0->notebook->jupyter<2.0.0,>=1.0.0->blackcellmagic) (2.0.7)\n",
      "Requirement already satisfied: pyyaml>=5.3 in /opt/homebrew/lib/python3.11/site-packages (from jupyter-events>=0.6.0->jupyter-server<3,>=2.4.0->notebook->jupyter<2.0.0,>=1.0.0->blackcellmagic) (6.0)\n",
      "Requirement already satisfied: rfc3339-validator in /opt/homebrew/lib/python3.11/site-packages (from jupyter-events>=0.6.0->jupyter-server<3,>=2.4.0->notebook->jupyter<2.0.0,>=1.0.0->blackcellmagic) (0.1.4)\n",
      "Requirement already satisfied: rfc3986-validator>=0.1.1 in /opt/homebrew/lib/python3.11/site-packages (from jupyter-events>=0.6.0->jupyter-server<3,>=2.4.0->notebook->jupyter<2.0.0,>=1.0.0->blackcellmagic) (0.1.1)\n",
      "Requirement already satisfied: ptyprocess>=0.5 in /Users/tanmoysg/Library/Python/3.11/lib/python/site-packages (from pexpect>4.3->ipython>=7.23.1->ipykernel->jupyter<2.0.0,>=1.0.0->blackcellmagic) (0.7.0)\n",
      "Requirement already satisfied: charset-normalizer<4,>=2 in /opt/homebrew/lib/python3.11/site-packages (from requests>=2.28->jupyterlab-server<3,>=2.22.1->notebook->jupyter<2.0.0,>=1.0.0->blackcellmagic) (3.2.0)\n",
      "Requirement already satisfied: urllib3<3,>=1.21.1 in /opt/homebrew/lib/python3.11/site-packages (from requests>=2.28->jupyterlab-server<3,>=2.22.1->notebook->jupyter<2.0.0,>=1.0.0->blackcellmagic) (2.0.4)\n",
      "Requirement already satisfied: certifi>=2017.4.17 in /opt/homebrew/lib/python3.11/site-packages (from requests>=2.28->jupyterlab-server<3,>=2.22.1->notebook->jupyter<2.0.0,>=1.0.0->blackcellmagic) (2023.7.22)\n",
      "Requirement already satisfied: argon2-cffi-bindings in /opt/homebrew/lib/python3.11/site-packages (from argon2-cffi->jupyter-server<3,>=2.4.0->notebook->jupyter<2.0.0,>=1.0.0->blackcellmagic) (21.2.0)\n",
      "Requirement already satisfied: executing>=1.2.0 in /Users/tanmoysg/Library/Python/3.11/lib/python/site-packages (from stack-data->ipython>=7.23.1->ipykernel->jupyter<2.0.0,>=1.0.0->blackcellmagic) (1.2.0)\n",
      "Requirement already satisfied: asttokens>=2.1.0 in /Users/tanmoysg/Library/Python/3.11/lib/python/site-packages (from stack-data->ipython>=7.23.1->ipykernel->jupyter<2.0.0,>=1.0.0->blackcellmagic) (2.2.1)\n",
      "Requirement already satisfied: pure-eval in /Users/tanmoysg/Library/Python/3.11/lib/python/site-packages (from stack-data->ipython>=7.23.1->ipykernel->jupyter<2.0.0,>=1.0.0->blackcellmagic) (0.2.2)\n",
      "Requirement already satisfied: fqdn in /opt/homebrew/lib/python3.11/site-packages (from jsonschema>=4.17.3->jupyterlab-server<3,>=2.22.1->notebook->jupyter<2.0.0,>=1.0.0->blackcellmagic) (1.5.1)\n",
      "Requirement already satisfied: isoduration in /opt/homebrew/lib/python3.11/site-packages (from jsonschema>=4.17.3->jupyterlab-server<3,>=2.22.1->notebook->jupyter<2.0.0,>=1.0.0->blackcellmagic) (20.11.0)\n",
      "Requirement already satisfied: jsonpointer>1.13 in /opt/homebrew/lib/python3.11/site-packages (from jsonschema>=4.17.3->jupyterlab-server<3,>=2.22.1->notebook->jupyter<2.0.0,>=1.0.0->blackcellmagic) (2.4)\n",
      "Requirement already satisfied: uri-template in /opt/homebrew/lib/python3.11/site-packages (from jsonschema>=4.17.3->jupyterlab-server<3,>=2.22.1->notebook->jupyter<2.0.0,>=1.0.0->blackcellmagic) (1.3.0)\n",
      "Requirement already satisfied: webcolors>=1.11 in /opt/homebrew/lib/python3.11/site-packages (from jsonschema>=4.17.3->jupyterlab-server<3,>=2.22.1->notebook->jupyter<2.0.0,>=1.0.0->blackcellmagic) (1.13)\n",
      "Requirement already satisfied: cffi>=1.0.1 in /opt/homebrew/lib/python3.11/site-packages (from argon2-cffi-bindings->argon2-cffi->jupyter-server<3,>=2.4.0->notebook->jupyter<2.0.0,>=1.0.0->blackcellmagic) (1.15.1)\n",
      "Requirement already satisfied: pycparser in /opt/homebrew/lib/python3.11/site-packages (from cffi>=1.0.1->argon2-cffi-bindings->argon2-cffi->jupyter-server<3,>=2.4.0->notebook->jupyter<2.0.0,>=1.0.0->blackcellmagic) (2.21)\n",
      "Requirement already satisfied: arrow>=0.15.0 in /opt/homebrew/lib/python3.11/site-packages (from isoduration->jsonschema>=4.17.3->jupyterlab-server<3,>=2.22.1->notebook->jupyter<2.0.0,>=1.0.0->blackcellmagic) (1.2.3)\n",
      "\n",
      "\u001b[1m[\u001b[0m\u001b[34;49mnotice\u001b[0m\u001b[1;39;49m]\u001b[0m\u001b[39;49m A new release of pip is available: \u001b[0m\u001b[31;49m23.0.1\u001b[0m\u001b[39;49m -> \u001b[0m\u001b[32;49m23.2.1\u001b[0m\n",
      "\u001b[1m[\u001b[0m\u001b[34;49mnotice\u001b[0m\u001b[1;39;49m]\u001b[0m\u001b[39;49m To update, run: \u001b[0m\u001b[32;49mpython3.11 -m pip install --upgrade pip\u001b[0m\n"
     ]
    }
   ],
   "source": [
    "!pip3 install pycrypto stegano pycryptodome black blackcellmagic"
   ]
  },
  {
   "cell_type": "code",
   "execution_count": 2,
   "metadata": {},
   "outputs": [],
   "source": [
    "%load_ext blackcellmagic"
   ]
  },
  {
   "cell_type": "markdown",
   "metadata": {
    "id": "J7dvOgWuvqAe"
   },
   "source": [
    "## Encryption"
   ]
  },
  {
   "cell_type": "code",
   "execution_count": 15,
   "metadata": {},
   "outputs": [],
   "source": [
    "from Crypto.Cipher import Blowfish, PKCS1_OAEP, AES\n",
    "from Crypto.PublicKey import RSA\n",
    "from Crypto.Util.Padding import pad, unpad\n",
    "from binascii import hexlify, unhexlify\n",
    "import hashlib\n",
    "import json\n",
    "import string\n",
    "import random\n",
    "from stegano import lsb\n",
    "from datetime import datetime"
   ]
  },
  {
   "cell_type": "markdown",
   "metadata": {},
   "source": [
    "### Key Generator for AES and Blowfish\n",
    "\n",
    "This generates random keys based on three parameters\n",
    "\n",
    "- size: length of the key to generate\n",
    "- case: casing of ASCII letters, possible values: \"default\", \"upper-case-only\", \"upper-case-only\"\n",
    "- punctuations: if punctuation symbols are required in  !\"#$%&'()*+, -./:;<=>?@[\\]^_`{|}~\n"
   ]
  },
  {
   "cell_type": "code",
   "execution_count": 16,
   "metadata": {},
   "outputs": [],
   "source": [
    "def key_generator(size: int, case: str = \"default\", punctuations: bool = True):\n",
    "    if punctuations:\n",
    "        chars = string.ascii_letters + string.digits + string.punctuation\n",
    "    else:\n",
    "        chars = string.ascii_letters + string.digits\n",
    "\n",
    "    if case == \"upper-case-only\":\n",
    "        chars = chars.upper()\n",
    "    elif case == \"lower-case-only\":\n",
    "        chars = chars.lower()\n",
    "\n",
    "    if size > len(chars):\n",
    "        raise ValueError(\"Key size is larger than the available characters\")\n",
    "\n",
    "    return ''.join(random.choice(chars) for _ in range(size))"
   ]
  },
  {
   "cell_type": "markdown",
   "metadata": {},
   "source": [
    "### Blowfish Algorithm\n",
    "\n"
   ]
  },
  {
   "cell_type": "code",
   "execution_count": 17,
   "metadata": {},
   "outputs": [],
   "source": [
    "# Blowfish\n",
    "def blowfish_encrypt(plaintext):\n",
    "    blowfish_key = key_generator(size=16).encode()\n",
    "    blowfish_cipher = Blowfish.new(blowfish_key, Blowfish.MODE_CBC)\n",
    "\n",
    "    blowfish_ciphertext = blowfish_cipher.encrypt(\n",
    "        pad(plaintext, Blowfish.block_size))\n",
    "\n",
    "    return blowfish_key, blowfish_cipher.iv, blowfish_ciphertext"
   ]
  },
  {
   "cell_type": "code",
   "execution_count": 18,
   "metadata": {},
   "outputs": [],
   "source": [
    "# RSA\n",
    "def rsa_encrypt(plaintext):\n",
    "    rsa_key = RSA.generate(2048)\n",
    "    rsa_private_key = rsa_key\n",
    "    rsa_public_key = rsa_key.publickey()\n",
    "\n",
    "    cipher_rsa = PKCS1_OAEP.new(rsa_public_key)\n",
    "\n",
    "    rsa_ciphertext = bytearray()\n",
    "    for i in range(0, len(plaintext), 190):\n",
    "        rsa_ciphertext.extend(cipher_rsa.encrypt(plaintext[i: i + 190]))\n",
    "\n",
    "    return rsa_private_key.n, rsa_private_key.e, rsa_private_key.d, rsa_ciphertext"
   ]
  },
  {
   "cell_type": "code",
   "execution_count": 19,
   "metadata": {},
   "outputs": [],
   "source": [
    "# AES\n",
    "def aes_encrypt(plaintext):\n",
    "    aes_key = key_generator(size=16).encode()\n",
    "    aes_cipher = AES.new(aes_key, AES.MODE_CBC)\n",
    "    aes_ciphertext = aes_cipher.encrypt(pad(plaintext, AES.block_size))\n",
    "\n",
    "    return aes_key, aes_cipher.iv, aes_ciphertext"
   ]
  },
  {
   "cell_type": "code",
   "execution_count": 20,
   "metadata": {},
   "outputs": [],
   "source": [
    "# LSB Steg\n",
    "def lsb_steganography(encrypted_keys_and_iv):\n",
    "    lsb_stegano_image = lsb.hide(\n",
    "        \"./cover_image.png\", encrypted_keys_and_iv.decode())\n",
    "    lsb_stegano_image.save(\"./stego_image.png\")"
   ]
  },
  {
   "cell_type": "code",
   "execution_count": 21,
   "metadata": {},
   "outputs": [],
   "source": [
    "def encrypt_keys(password, keys_iv):\n",
    "    hash = hashlib.sha1()\n",
    "    hash.update(password.encode())\n",
    "    password_encryption_cipher = AES.new(\n",
    "        hash.hexdigest()[:16].encode(), AES.MODE_CBC, iv=\"16bitAESInitVect\".encode()\n",
    "    )\n",
    "    # Encryption of Key and IV String\n",
    "    encrypted_keys_and_iv = hexlify(\n",
    "        password_encryption_cipher.encrypt(\n",
    "            pad(json.dumps(keys_iv).encode(), AES.block_size)\n",
    "        )\n",
    "    )\n",
    "    return encrypted_keys_and_iv"
   ]
  },
  {
   "cell_type": "code",
   "execution_count": 22,
   "metadata": {},
   "outputs": [],
   "source": [
    "def open_file(path: str) -> bytes:\n",
    "    with open(path, \"rb\") as file:\n",
    "        plaintext = file.read()\n",
    "    return plaintext\n",
    "\n",
    "\n",
    "def output_file(path, ciphertext):\n",
    "    output_filepath = path + \"_hyenc.encrypted\"\n",
    "    with open(output_filepath, \"w\") as file:\n",
    "        file.write(hexlify(ciphertext).decode())"
   ]
  },
  {
   "cell_type": "code",
   "execution_count": 23,
   "metadata": {},
   "outputs": [],
   "source": [
    "# Run Encryption\n",
    "def run_encryption(plaintext):\n",
    "    keys_iv = {}\n",
    "\n",
    "    blowfish_key, blowfish_iv, blowfish_ct = blowfish_encrypt(plaintext)\n",
    "    keys_iv[\"blowfish_iv\"], keys_iv[\"blowfish_key\"] = (\n",
    "        hexlify(blowfish_iv).decode(),\n",
    "        hexlify(blowfish_key).decode(),\n",
    "    )\n",
    "\n",
    "    rsa_n, rsa_e, rsa_d, rsa_ct = rsa_encrypt(blowfish_ct)\n",
    "    keys_iv[\"rsa_n\"], keys_iv[\"rsa_e\"], keys_iv[\"rsa_d\"] = rsa_n, rsa_e, rsa_d\n",
    "\n",
    "    aes_key, aes_iv, aes_ct = aes_encrypt(rsa_ct)\n",
    "    keys_iv[\"aes_iv\"], keys_iv[\"aes_key\"] = (\n",
    "        hexlify(aes_iv).decode(),\n",
    "        hexlify(aes_key).decode(),\n",
    "    )\n",
    "\n",
    "    return keys_iv, aes_ct"
   ]
  },
  {
   "cell_type": "code",
   "execution_count": 24,
   "metadata": {
    "colab": {
     "base_uri": "https://localhost:8080/"
    },
    "id": "LY75pUFwvqAe",
    "outputId": "215622e8-b250-47d4-c1d3-ea474d822727"
   },
   "outputs": [
    {
     "name": "stdout",
     "output_type": "stream",
     "text": [
      "File Encryption Complete!\n"
     ]
    }
   ],
   "source": [
    "input_file_path = input(\"Enter Filepath of file to encrypt: \")\n",
    "\n",
    "plaintext = open_file(input_file_path)\n",
    "\n",
    "log_plaintext_length = len(hexlify(plaintext))\n",
    "\n",
    "# Password for Key Encryption\n",
    "password = input(\"Enter Password: \")\n",
    "log_password_length = len(password)\n",
    "\n",
    "log_start_time = datetime.now()\n",
    "\n",
    "keys_iv, ciphertext = run_encryption(plaintext)\n",
    "\n",
    "output_file(input_file_path, ciphertext)\n",
    "\n",
    "encrypted_keys_and_iv = encrypt_keys(password, keys_iv)\n",
    "lsb_steganography(encrypted_keys_and_iv)\n",
    "\n",
    "log_ciphertext_length = len(hexlify(ciphertext))\n",
    "log_end_time = datetime.now()\n",
    "log_duration = str(log_end_time - log_start_time)\n",
    "\n",
    "with open(\"./logs/encryption-log.txt\", \"a+\") as log_file:\n",
    "    log_file.write(\n",
    "        \"\\n| \"\n",
    "        + str(log_plaintext_length)\n",
    "        + \"          | \"\n",
    "        + str(log_ciphertext_length)\n",
    "        + \"          | \"\n",
    "        + str(log_password_length)\n",
    "        + \"         | \"\n",
    "        + log_start_time.strftime(\"%H:%M:%S\")\n",
    "        + \"   | \"\n",
    "        + log_end_time.strftime(\"%H:%M:%S\")\n",
    "        + \"  | \"\n",
    "        + str(log_duration)\n",
    "        + \" |\"\n",
    "    )\n",
    "\n",
    "print(\"File Encryption Complete!\")"
   ]
  },
  {
   "cell_type": "markdown",
   "metadata": {
    "id": "8tHrkt66vqAg"
   },
   "source": [
    "## Decryption"
   ]
  },
  {
   "cell_type": "code",
   "execution_count": 25,
   "metadata": {},
   "outputs": [],
   "source": [
    "def get_encrypted_file(file_to_decrypt):\n",
    "    with open(file_to_decrypt, 'r') as file:\n",
    "        ciphertext = file.read()\n",
    "\n",
    "    return ciphertext"
   ]
  },
  {
   "cell_type": "code",
   "execution_count": 26,
   "metadata": {},
   "outputs": [],
   "source": [
    "def get_key_iv_from_steg_image(password):\n",
    "    unhide_encrypted_keys_and_iv = lsb.reveal(\"./stego_image.png\").encode()\n",
    "    hash = hashlib.sha1()\n",
    "    hash.update(password.encode())\n",
    "    password_decryption_cipher = AES.new(\n",
    "        hash.hexdigest()[:16].encode(), AES.MODE_CBC, iv='16bitAESInitVect'.encode())\n",
    "\n",
    "    return json.loads(unpad(password_decryption_cipher.decrypt(unhexlify(unhide_encrypted_keys_and_iv)), AES.block_size))"
   ]
  },
  {
   "cell_type": "code",
   "execution_count": 27,
   "metadata": {},
   "outputs": [],
   "source": [
    "def aes_decrypt(ciphertext, decrypted_keys_iv):\n",
    "    decryption_key_aes = unhexlify(decrypted_keys_iv['aes_key'])\n",
    "    decryption_iv_aes = unhexlify(decrypted_keys_iv['aes_iv'])\n",
    "    aes_cipher_decryption = AES.new(\n",
    "        decryption_key_aes, AES.MODE_CBC, iv=decryption_iv_aes)\n",
    "    return unpad(aes_cipher_decryption.decrypt(unhexlify(ciphertext)), AES.block_size)"
   ]
  },
  {
   "cell_type": "code",
   "execution_count": 28,
   "metadata": {},
   "outputs": [],
   "source": [
    "def rsa_decrypt(ciphertext, decrypted_keys_iv):\n",
    "    decryption_key_rsa = RSA.construct(rsa_components=(\n",
    "        decrypted_keys_iv['rsa_n'], decrypted_keys_iv['rsa_e'], decrypted_keys_iv['rsa_d']))\n",
    "    rsa_cipher_decryption = PKCS1_OAEP.new(decryption_key_rsa)\n",
    "    ciphertext_blowfish = bytearray()\n",
    "    for i in range(0, len(ciphertext), 256):\n",
    "        ciphertext_segment = ciphertext[i:i+256]\n",
    "        ciphertext_blowfish.extend(\n",
    "            rsa_cipher_decryption.decrypt(ciphertext_segment))\n",
    "    return ciphertext_blowfish"
   ]
  },
  {
   "cell_type": "code",
   "execution_count": 29,
   "metadata": {},
   "outputs": [],
   "source": [
    "def blowfish_decrypt(ciphertext, decrypted_keys_iv):\n",
    "    decryption_iv_blowfish = unhexlify(decrypted_keys_iv['blowfish_iv'])\n",
    "    decryption_key_blowfish = unhexlify(decrypted_keys_iv['blowfish_key'])\n",
    "    blowfish_cipher_decryption = Blowfish.new(\n",
    "        decryption_key_blowfish, Blowfish.MODE_CBC, iv=decryption_iv_blowfish)\n",
    "    return unpad(blowfish_cipher_decryption.decrypt(ciphertext), Blowfish.block_size)"
   ]
  },
  {
   "cell_type": "code",
   "execution_count": 30,
   "metadata": {},
   "outputs": [],
   "source": [
    "def create_decrypted_output_file(filepath, decrypted_plaintext):\n",
    "    output_filepath = filepath.replace('_hyenc.encrypted', '')\n",
    "    output_folder_path = \"./dec_\"+output_filepath.split(\"/\")[-1]\n",
    "    with open(output_folder_path, 'wb+') as file:\n",
    "        file.write(decrypted_plaintext)\n",
    "        file.close()\n",
    "    return output_folder_path"
   ]
  },
  {
   "cell_type": "code",
   "execution_count": 31,
   "metadata": {},
   "outputs": [],
   "source": [
    "# Run Encryption\n",
    "def run_decryption(ciphertext, keys_iv):\n",
    "    aes_plaintext = aes_decrypt(ciphertext, keys_iv)\n",
    "    rsa_plaintext = rsa_decrypt(aes_plaintext, keys_iv)\n",
    "    blowfish_plaintext = blowfish_decrypt(rsa_plaintext, keys_iv)\n",
    "    return blowfish_plaintext"
   ]
  },
  {
   "cell_type": "code",
   "execution_count": 32,
   "metadata": {
    "colab": {
     "base_uri": "https://localhost:8080/"
    },
    "id": "VolMRyxYvqAg",
    "outputId": "b04e043a-d51c-47d7-a3b5-938a25f3587a"
   },
   "outputs": [
    {
     "name": "stdout",
     "output_type": "stream",
     "text": [
      "File Decryption Complete!  ./dec_sample.txt\n"
     ]
    }
   ],
   "source": [
    "password = input(\"Enter Password: \")\n",
    "file_to_decrypt = input(\"Enter Filepath of file to decrypt: \")\n",
    "\n",
    "\n",
    "log_password_length = len(password)\n",
    "log_ciphertext_length = len(ciphertext)\n",
    "\n",
    "log_start_time = datetime.now()\n",
    "\n",
    "decrypted_keys_iv = get_key_iv_from_steg_image(password)\n",
    "ciphertext = get_encrypted_file(file_to_decrypt)\n",
    "decrypted_plaintext = run_decryption(ciphertext, decrypted_keys_iv)\n",
    "\n",
    "output_file_path = create_decrypted_output_file(\n",
    "    file_to_decrypt, decrypted_plaintext)\n",
    "\n",
    "\n",
    "log_end_time = datetime.now()\n",
    "log_duration = str(log_end_time - log_start_time)\n",
    "log_plaintext_length = len(hexlify(decrypted_plaintext))\n",
    "\n",
    "\n",
    "with open(\"./logs/decryption-log.txt\", \"a+\") as log_file:\n",
    "    log_file.write(\n",
    "        \"\\n| \"\n",
    "        + str(log_ciphertext_length)\n",
    "        + \"          | \"\n",
    "        + str(log_plaintext_length)\n",
    "        + \"          | \"\n",
    "        + str(log_password_length)\n",
    "        + \"         | \"\n",
    "        + log_start_time.strftime(\"%H:%M:%S\")\n",
    "        + \"   | \"\n",
    "        + log_end_time.strftime(\"%H:%M:%S\")\n",
    "        + \"  | \"\n",
    "        + str(log_duration)\n",
    "        + \" |\"\n",
    "    )\n",
    "\n",
    "\n",
    "print(\"File Decryption Complete! \", output_file_path)"
   ]
  },
  {
   "cell_type": "code",
   "execution_count": null,
   "metadata": {
    "id": "SWsLTi80vqAh"
   },
   "outputs": [],
   "source": []
  }
 ],
 "metadata": {
  "colab": {
   "provenance": []
  },
  "kernelspec": {
   "display_name": "Python 3 (ipykernel)",
   "language": "python",
   "name": "python3"
  },
  "language_info": {
   "codemirror_mode": {
    "name": "ipython",
    "version": 3
   },
   "file_extension": ".py",
   "mimetype": "text/x-python",
   "name": "python",
   "nbconvert_exporter": "python",
   "pygments_lexer": "ipython3",
   "version": "3.11.4"
  }
 },
 "nbformat": 4,
 "nbformat_minor": 1
}
